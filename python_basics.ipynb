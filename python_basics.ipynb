{
 "cells": [
  {
   "cell_type": "code",
   "execution_count": 1,
   "id": "2feb9f43-bc0c-4cd2-ae92-9a29f7a26170",
   "metadata": {},
   "outputs": [
    {
     "name": "stdout",
     "output_type": "stream",
     "text": [
      "HelloWorld\n"
     ]
    }
   ],
   "source": [
    "a = \"Hello\"\n",
    "b = \"World\"\n",
    "c = a + b\n",
    "print(c)\n"
   ]
  },
  {
   "cell_type": "code",
   "execution_count": 7,
   "id": "bf5aacdc-3daf-43fd-8dd4-72011f5fac62",
   "metadata": {},
   "outputs": [
    {
     "name": "stdout",
     "output_type": "stream",
     "text": [
      "my name is john, and im 36\n"
     ]
    }
   ],
   "source": [
    "\n",
    "#we can combine strings and numbers by using f-strings or the format()  using f key word in front of string\n",
    "txt = f\"my name is john, and im {age}\"\n",
    "print(txt)"
   ]
  },
  {
   "cell_type": "code",
   "execution_count": 5,
   "id": "7b760a0c-7f7e-40ef-96db-895d38acf142",
   "metadata": {},
   "outputs": [
    {
     "name": "stdout",
     "output_type": "stream",
     "text": [
      " the price is 60 rupes\n"
     ]
    }
   ],
   "source": [
    "price = 60\n",
    "txt = f\" the price is {price} rupes\"\n",
    "print(txt)\n"
   ]
  },
  {
   "cell_type": "code",
   "execution_count": 8,
   "id": "ed2b659c-1f23-4d10-b2eb-3413240f7804",
   "metadata": {},
   "outputs": [
    {
     "name": "stdout",
     "output_type": "stream",
     "text": [
      " the price is 60.00 rupes\n"
     ]
    }
   ],
   "source": [
    "#Displaying the price with 2 decimals:\n",
    "price = 60\n",
    "txt = f\" the price is {price:.2f} rupes\"\n",
    "print(txt)\n"
   ]
  },
  {
   "cell_type": "code",
   "execution_count": 18,
   "id": "b23f8ec9-315c-4b7a-85a0-2d43424ae3d0",
   "metadata": {},
   "outputs": [
    {
     "name": "stdout",
     "output_type": "stream",
     "text": [
      "The price is 100 rupes\n"
     ]
    }
   ],
   "source": [
    "txt = f\"The price is {20 * 5} rupes\"\n",
    "print(txt)\n"
   ]
  },
  {
   "cell_type": "code",
   "execution_count": 21,
   "id": "01952b51-5e2a-477e-80f5-6ded392dc5a5",
   "metadata": {},
   "outputs": [
    {
     "name": "stdout",
     "output_type": "stream",
     "text": [
      " im omkar studing in \"ise\" branch in aiet \n"
     ]
    }
   ],
   "source": [
    "#escape character\n",
    "txt = \" im omkar studing in \\\"ise\\\" branch in aiet \"\n",
    "print(txt)"
   ]
  },
  {
   "cell_type": "code",
   "execution_count": 16,
   "id": "cacf3b44-832e-406f-8f11-e60f4a675b15",
   "metadata": {},
   "outputs": [
    {
     "name": "stdout",
     "output_type": "stream",
     "text": [
      "it's me\n",
      "This will insert one \\ (backslash).\n",
      "Hello\n",
      "World!\n"
     ]
    }
   ],
   "source": [
    "#\\' for ex\n",
    "txt1 = 'it\\'s me'\n",
    "print(txt1)\n",
    "\n",
    "# backslash\n",
    "txt2 = \"This will insert one \\\\ (backslash).\"\n",
    "print(txt2) \n",
    "\n",
    "      \n",
    "# using \\n for new line\n",
    "txt3 = \"Hello\\nWorld!\"\n",
    "print(txt3) \n",
    "\n",
    "#\\t for tab \n",
    "#\\b for back space\n",
    "#\\ooo for octal value value  \\110=H\n",
    "\n",
    "\n",
    "\n"
   ]
  },
  {
   "cell_type": "code",
   "execution_count": 24,
   "id": "23e6fb6f-0e83-4c75-94f7-10d7667bb562",
   "metadata": {},
   "outputs": [
    {
     "name": "stdout",
     "output_type": "stream",
     "text": [
      "False\n",
      "True\n",
      "True\n"
     ]
    }
   ],
   "source": [
    "print(10<9)#boolens\n",
    "print(10==10)\n",
    "print(2<3)"
   ]
  },
  {
   "cell_type": "code",
   "execution_count": 27,
   "id": "218d4e56-3d77-4b0f-93b1-21befbddd6a2",
   "metadata": {},
   "outputs": [
    {
     "name": "stdout",
     "output_type": "stream",
     "text": [
      "a is grater then b\n"
     ]
    }
   ],
   "source": [
    "a = 100\n",
    "b = 50\n",
    "\n",
    "if a > b:\n",
    "   print(\"a is grater then b\")\n",
    "else:\n",
    "   print(\" b is grater than a\")\n",
    "#Almost any value is evaluated to True if it has some sort of content.\n",
    "#Any string is True, except empty strings.\n",
    "#Any number is True, except 0.\n",
    "#Any list, tuple, set, and dictionary are True, except empty ones."
   ]
  },
  {
   "cell_type": "code",
   "execution_count": 34,
   "id": "891c6751-9706-4f50-b347-81c0ebe783b2",
   "metadata": {},
   "outputs": [
    {
     "name": "stdout",
     "output_type": "stream",
     "text": [
      "15\n",
      "8\n",
      "5.0\n",
      "5\n",
      "0\n"
     ]
    }
   ],
   "source": [
    "print(10+5)#Arithmetic operators\n",
    "print(10-2)\n",
    "print(10/2)\n",
    "print(10//2)\n",
    "print(10%2)\n",
    "#Assignment operators\n",
    "#x =5\n",
    "#+ = 5 #same as  x=x+5\n",
    "#<<5\n",
    "#>>5\n",
    "#Comparison operators\n",
    "#==\n",
    "#!=\n",
    "#<\n",
    "#>\n",
    "\n",
    "#Logical operators(and if both are ture, or atlist one is true , not revrse the result)\n",
    "#Identity operators(is isnot)\n",
    "#Membership operators(in notin)\n",
    "#Bitwise operators(& \tAND\tSets each bit to 1 if both bits are 1\tx & y\t,|\tOR\tSets each bit to 1 if one of two bits is 1\tx | y\t,^\tXOR\tSets each bit to 1 if only one of two bits is 1\tx ^ y\t,~\tNOT\t,<<\t,>>\n"
   ]
  },
  {
   "cell_type": "code",
   "execution_count": null,
   "id": "7a051f4f-c236-4188-9d66-823e5f9124b9",
   "metadata": {},
   "outputs": [],
   "source": []
  },
  {
   "cell_type": "code",
   "execution_count": null,
   "id": "5dc04677-6ca0-4dee-833c-6e001e4b4f62",
   "metadata": {},
   "outputs": [],
   "source": []
  }
 ],
 "metadata": {
  "kernelspec": {
   "display_name": "Python 3 (ipykernel)",
   "language": "python",
   "name": "python3"
  },
  "language_info": {
   "codemirror_mode": {
    "name": "ipython",
    "version": 3
   },
   "file_extension": ".py",
   "mimetype": "text/x-python",
   "name": "python",
   "nbconvert_exporter": "python",
   "pygments_lexer": "ipython3",
   "version": "3.11.9"
  }
 },
 "nbformat": 4,
 "nbformat_minor": 5
}
