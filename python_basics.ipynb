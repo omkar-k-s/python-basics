{
 "cells": [
  {
   "cell_type": "code",
   "execution_count": 34,
   "id": "8b453fdd",
   "metadata": {},
   "outputs": [],
   "source": [
    "import warnings\n",
    "warnings.filterwarnings(\"ignore\")"
   ]
  },
  {
   "cell_type": "code",
   "execution_count": 35,
   "id": "2feb9f43-bc0c-4cd2-ae92-9a29f7a26170",
   "metadata": {},
   "outputs": [
    {
     "name": "stdout",
     "output_type": "stream",
     "text": [
      "HelloWorld\n"
     ]
    }
   ],
   "source": [
    "a = \"Hello\"\n",
    "b = \"World\"\n",
    "c = a + b\n",
    "print(c)\n"
   ]
  },
  {
   "cell_type": "code",
   "execution_count": 36,
   "id": "bf5aacdc-3daf-43fd-8dd4-72011f5fac62",
   "metadata": {},
   "outputs": [
    {
     "name": "stdout",
     "output_type": "stream",
     "text": [
      "my name is john, and im 30\n"
     ]
    }
   ],
   "source": [
    "\n",
    "#we can combine strings and numbers by using f-strings or the format()  using f key word in front of string\n",
    "age = 30\n",
    "txt = f\"my name is john, and im {age}\"\n",
    "print(txt)"
   ]
  },
  {
   "cell_type": "code",
   "execution_count": 37,
   "id": "7b760a0c-7f7e-40ef-96db-895d38acf142",
   "metadata": {},
   "outputs": [
    {
     "name": "stdout",
     "output_type": "stream",
     "text": [
      " the price is 60 rupes\n"
     ]
    }
   ],
   "source": [
    "price = 60\n",
    "txt = f\" the price is {price} rupes\"\n",
    "print(txt)\n"
   ]
  },
  {
   "cell_type": "code",
   "execution_count": 38,
   "id": "ed2b659c-1f23-4d10-b2eb-3413240f7804",
   "metadata": {},
   "outputs": [
    {
     "name": "stdout",
     "output_type": "stream",
     "text": [
      " the price is 60.00 rupes\n"
     ]
    }
   ],
   "source": [
    "#Displaying the price with 2 decimals:\n",
    "price = 60\n",
    "txt = f\" the price is {price:.2f} rupes\"\n",
    "print(txt)\n"
   ]
  },
  {
   "cell_type": "code",
   "execution_count": 39,
   "id": "b23f8ec9-315c-4b7a-85a0-2d43424ae3d0",
   "metadata": {},
   "outputs": [
    {
     "name": "stdout",
     "output_type": "stream",
     "text": [
      "The price is 100 rupes\n"
     ]
    }
   ],
   "source": [
    "txt = f\"The price is {20 * 5} rupes\"\n",
    "print(txt)\n"
   ]
  },
  {
   "cell_type": "code",
   "execution_count": 40,
   "id": "01952b51-5e2a-477e-80f5-6ded392dc5a5",
   "metadata": {},
   "outputs": [
    {
     "name": "stdout",
     "output_type": "stream",
     "text": [
      " im omkar studing in \"ise\" branch in aiet \n"
     ]
    }
   ],
   "source": [
    "#escape character\n",
    "txt = \" im omkar studing in \\\"ise\\\" branch in aiet \"\n",
    "print(txt)"
   ]
  },
  {
   "cell_type": "code",
   "execution_count": 41,
   "id": "cacf3b44-832e-406f-8f11-e60f4a675b15",
   "metadata": {},
   "outputs": [
    {
     "name": "stdout",
     "output_type": "stream",
     "text": [
      "it's me\n",
      "This will insert one \\ (backslash).\n",
      "Hello\n",
      "World!\n"
     ]
    }
   ],
   "source": [
    "#\\' for ex\n",
    "txt1 = 'it\\'s me'\n",
    "print(txt1)\n",
    "\n",
    "# backslash\n",
    "txt2 = \"This will insert one \\\\ (backslash).\"\n",
    "print(txt2) \n",
    "\n",
    "      \n",
    "# using \\n for new line\n",
    "txt3 = \"Hello\\nWorld!\"\n",
    "print(txt3) \n",
    "\n",
    "#\\t for tab \n",
    "#\\b for back space\n",
    "#\\ooo for octal value value  \\110=H\n",
    "\n",
    "\n",
    "\n"
   ]
  },
  {
   "cell_type": "code",
   "execution_count": 42,
   "id": "23e6fb6f-0e83-4c75-94f7-10d7667bb562",
   "metadata": {},
   "outputs": [
    {
     "name": "stdout",
     "output_type": "stream",
     "text": [
      "False\n",
      "True\n",
      "True\n"
     ]
    }
   ],
   "source": [
    "print(10<9)#boolens\n",
    "print(10==10)\n",
    "print(2<3)"
   ]
  },
  {
   "cell_type": "code",
   "execution_count": 43,
   "id": "218d4e56-3d77-4b0f-93b1-21befbddd6a2",
   "metadata": {},
   "outputs": [
    {
     "name": "stdout",
     "output_type": "stream",
     "text": [
      "a is grater then b\n"
     ]
    }
   ],
   "source": [
    "a = 100\n",
    "b = 50\n",
    "\n",
    "if a > b:\n",
    "   print(\"a is grater then b\")\n",
    "else:\n",
    "   print(\" b is grater than a\")\n",
    "#Almost any value is evaluated to True if it has some sort of content.\n",
    "#Any string is True, except empty strings.\n",
    "#Any number is True, except 0.\n",
    "#Any list, tuple, set, and dictionary are True, except empty ones."
   ]
  },
  {
   "cell_type": "code",
   "execution_count": 44,
   "id": "891c6751-9706-4f50-b347-81c0ebe783b2",
   "metadata": {},
   "outputs": [
    {
     "name": "stdout",
     "output_type": "stream",
     "text": [
      "15\n",
      "8\n",
      "5.0\n",
      "5\n",
      "0\n"
     ]
    }
   ],
   "source": [
    "print(10+5)#Arithmetic operators\n",
    "print(10-2)\n",
    "print(10/2)\n",
    "print(10//2)\n",
    "print(10%2)\n",
    "#Assignment operators\n",
    "#x =5\n",
    "#+ = 5 #same as  x=x+5\n",
    "#<<5\n",
    "#>>5\n",
    "#Comparison operators\n",
    "#==\n",
    "#!=\n",
    "#<\n",
    "#>\n",
    "\n",
    "#Logical operators(and if both are ture, or atlist one is true , not revrse the result)\n",
    "#Identity operators(is isnot)\n",
    "#Membership operators(in notin)\n",
    "#Bitwise operators(& \tAND\tSets each bit to 1 if both bits are 1\tx & y\t,|\tOR\tSets each bit to 1 if one of two bits is 1\tx | y\t,^\tXOR\tSets each bit to 1 if only one of two bits is 1\tx ^ y\t,~\tNOT\t,<<\t,>>\n"
   ]
  },
  {
   "cell_type": "code",
   "execution_count": 45,
   "id": "7a051f4f-c236-4188-9d66-823e5f9124b9",
   "metadata": {},
   "outputs": [
    {
     "name": "stdout",
     "output_type": "stream",
     "text": [
      "199\n"
     ]
    }
   ],
   "source": [
    "age=199\n",
    "print(age)\n"
   ]
  },
  {
   "cell_type": "code",
   "execution_count": 46,
   "id": "5dc04677-6ca0-4dee-833c-6e001e4b4f62",
   "metadata": {},
   "outputs": [
    {
     "name": "stdout",
     "output_type": "stream",
     "text": [
      "['apple', 'banana', 'cherry']\n",
      "3\n",
      "['apple', 'banana', 'cherry']\n",
      "[1, 5, 7, 9, 3]\n",
      "[True, False, False]\n",
      "['abc', 34, True, 40, 'male']\n",
      "banana\n",
      "cherry\n",
      "['banana', 'cherry']\n",
      "['apple', 'banana']\n",
      "Yes, 'apple' is in the fruits list\n",
      "['apple', 'mango', 'cherry']\n",
      "['apple', 'mango', 'watermellon', 'cherry']\n",
      "['apple', 'mango', 'watermellon', 'cherry', 'orange']\n",
      "['apple', 'mango', 'watermellon', 'cherry', 'orange', 'kiwi', 'jack', 'jammoon']\n",
      "['apple', 'mango', 'watermellon', 'cherry', 'orange', 'kiwi', 'jammoon']\n",
      "['apple', 'watermellon', 'cherry', 'orange', 'kiwi', 'jammoon']\n"
     ]
    }
   ],
   "source": [
    "#list      listb can be changeable we can add remove delete update etc\n",
    "thislist = [\"apple\", \"banana\", \"cherry\"]\n",
    "print(thislist)\n",
    "\n",
    "#len() used to find the length of the list\n",
    "print(len(thislist))\n",
    "\n",
    "#String, int and boolean data types:\n",
    "\n",
    "list1 = [\"apple\", \"banana\", \"cherry\"]\n",
    "list2 = [1, 5, 7, 9, 3]\n",
    "list3 = [True, False, False]\n",
    "print(list1)\n",
    "print(list2)\n",
    "print(list3)\n",
    "\n",
    "#A list with strings, integers and boolean values:\n",
    "\n",
    "list1 = [\"abc\", 34, True, 40, \"male\"]\n",
    "print(list1)\n",
    "\n",
    "#There are four collection data types in the Python programming language:\n",
    "\n",
    "#List is a collection which is ordered and changeable. Allows duplicate members.\n",
    "#Tuple is a collection which is ordered and unchangeable. Allows duplicate members.\n",
    "#Set is a collection which is unordered, unchangeable*, and unindexed. No duplicate members.\n",
    "#Dictionary is a collection which is ordered** and changeable. No duplicate members.\\\n",
    "\n",
    "\n",
    "#access list\n",
    "thislist = [\"apple\", \"banana\", \"cherry\"]\n",
    "print(thislist[1])\n",
    "print(thislist[-1])#negative indexing from last\n",
    "print(thislist[1:3])#range\n",
    "print(thislist[-3:-1])# this starts from apple but not includes the cherry\n",
    "if \"apple\" in thislist:\n",
    "  print(\"Yes, 'apple' is in the fruits list\")\n",
    "\n",
    "thislist[1] = \"mango\"# changeing the list\n",
    "print(thislist)\n",
    "\n",
    "thislist.insert(2, \"watermellon\")#To insert a list item at a specified index,\n",
    "print(thislist)\n",
    "\n",
    "thislist.append(\"orange\")#append used to  add the list item to the last\n",
    "print(thislist)\n",
    "\n",
    "anotherlist = [\"kiwi\", \"jack\", \"jammoon\"]\n",
    "thislist.extend(anotherlist)#extend is used to append form another list we can add the tuple to list using this\n",
    "print(thislist)\n",
    "\n",
    "thislist.remove(\"jack\")\n",
    "print(thislist)\n",
    "\n",
    "thislist.pop(1)# this pop() is used nto remove specific index\n",
    "print(thislist)\n",
    "\n",
    "del thislist # clear() also used to meptyt the list\n",
    "\n",
    "\n"
   ]
  },
  {
   "cell_type": "code",
   "execution_count": 47,
   "id": "9d12789a",
   "metadata": {},
   "outputs": [
    {
     "name": "stdout",
     "output_type": "stream",
     "text": [
      "apple\n",
      "banana\n",
      "apple\n",
      "banana\n"
     ]
    }
   ],
   "source": [
    "\n",
    "#for loop \n",
    "thislist = [\"apple\", \"banana\", \"cherry\"]\n",
    "for i in range(2):\n",
    "  print(thislist[i])\n",
    "\n",
    "#using while loop\n",
    "i = 0\n",
    "while i < 2:\n",
    "  print(thislist[i])\n",
    "  i = i + 1"
   ]
  },
  {
   "cell_type": "code",
   "execution_count": 48,
   "id": "9ddd7c82",
   "metadata": {},
   "outputs": [
    {
     "name": "stdout",
     "output_type": "stream",
     "text": [
      "['apple', 'banana', 'mango']\n",
      "['apple', 'banana', 'mango']\n"
     ]
    }
   ],
   "source": [
    "#list comparistion\n",
    "fruits = [\"apple\", \"banana\", \"mango\", \"kiwi\", \"cherry\"]\n",
    "newlist = []\n",
    "\n",
    "for x in fruits:\n",
    "    if \"a\" in x:\n",
    "        newlist.append(x)\n",
    "print(newlist)\n",
    "\n",
    "\n",
    "fruits = [\"apple\", \"banana\", \"cherry\", \"kiwi\", \"mango\"]\n",
    "\n",
    "newlist = [x for x in fruits if \"a\" in x]\n",
    "\n",
    "print(newlist)"
   ]
  },
  {
   "cell_type": "code",
   "execution_count": 49,
   "id": "6285cd17",
   "metadata": {},
   "outputs": [
    {
     "data": {
      "text/plain": [
       "['apple', 'banana', 'cherry', 'kiwi', 'mango']"
      ]
     },
     "execution_count": 49,
     "metadata": {},
     "output_type": "execute_result"
    }
   ],
   "source": [
    "fruits"
   ]
  },
  {
   "cell_type": "code",
   "execution_count": 50,
   "id": "69b98afe",
   "metadata": {},
   "outputs": [
    {
     "name": "stdout",
     "output_type": "stream",
     "text": [
      "[23, 50, 65, 82, 100]\n"
     ]
    }
   ],
   "source": [
    "thislist = [100, 50, 65, 82, 23]\n",
    "thislist.sort()\n",
    "print(thislist)       #SORT()"
   ]
  },
  {
   "cell_type": "code",
   "execution_count": 51,
   "id": "39b2a68d",
   "metadata": {},
   "outputs": [
    {
     "name": "stdout",
     "output_type": "stream",
     "text": [
      "['pineapple', 'orange', 'banana', 'apple']\n",
      "[100, 82, 65, 50, 23]\n"
     ]
    }
   ],
   "source": [
    "fruits = [\"apple\", \"banana\", \"orange\", \"pineapple\"] # to arrenge in desending order\n",
    "fruits.sort(reverse = True)\n",
    "print(fruits)\n",
    "\n",
    "thislist = [100, 50, 65, 82, 23]\n",
    "thislist.sort(reverse = True)\n",
    "print(thislist)"
   ]
  },
  {
   "cell_type": "code",
   "execution_count": 52,
   "id": "6a47a3cf",
   "metadata": {},
   "outputs": [
    {
     "name": "stdout",
     "output_type": "stream",
     "text": [
      "[50, 45, 40, 60, 100]\n"
     ]
    }
   ],
   "source": [
    "def myfunc(n):\n",
    "    return abs(n - 50)   # this is used to sort the nearst to the 50 useng function\n",
    "\n",
    "thislist = [100, 50, 40, 45, 60]\n",
    "thislist.sort(key = myfunc)\n",
    "print(thislist)"
   ]
  },
  {
   "cell_type": "code",
   "execution_count": 53,
   "id": "0c166303",
   "metadata": {},
   "outputs": [
    {
     "name": "stdout",
     "output_type": "stream",
     "text": [
      "['apple', 'banana', 'ornage']\n",
      "['apple', 'banana', 'ornage']\n",
      "['apple', 'banana', 'ornage']\n"
     ]
    }
   ],
   "source": [
    "thislist = [\"apple\", \"banana\", \"ornage\"]\n",
    "mylist = thislist.copy()\n",
    "print(mylist)\n",
    "\n",
    "#we can use list() in replace of copy() keyword\n",
    "mylist = list(thislist)\n",
    "print(mylist)\n",
    "\n",
    "# also slice operation[:]\n",
    "mylist = thislist[:]\n",
    "print(mylist)"
   ]
  },
  {
   "cell_type": "code",
   "execution_count": 54,
   "id": "f4aaf361",
   "metadata": {},
   "outputs": [
    {
     "name": "stdout",
     "output_type": "stream",
     "text": [
      "['a', 'b', 'c', 1, 2, 3]\n",
      "['a', 'b', 'c', 1, 2, 3]\n",
      "['a', 'b', 'c', 1, 2, 3, 1, 2, 3]\n"
     ]
    }
   ],
   "source": [
    "list1 = [\"a\", \"b\", \"c\" ]\n",
    "list2 = [1, 2, 3]\n",
    "\n",
    "list3 = list1 + list2\n",
    "print(list3)\n",
    "\n",
    "\n",
    "#another way to add two list\n",
    "for x in list2:\n",
    "    list1.append(x)\n",
    "\n",
    "print(list1)\n",
    "\n",
    "\n",
    "\n",
    "\n",
    "#extend() can alson add two list\n",
    "list1.extend(list2)\n",
    "print(list1)"
   ]
  },
  {
   "cell_type": "code",
   "execution_count": 55,
   "id": "efa7a7c0",
   "metadata": {},
   "outputs": [
    {
     "name": "stdout",
     "output_type": "stream",
     "text": [
      "('apple', 'banana', 'cherry')\n",
      "('a', 'b', 'c', 'a')\n"
     ]
    }
   ],
   "source": [
    "#tuple is another builtin data types in python\n",
    "#they are ordered unchangeble and allows duplicate values they represent in parenthesis\n",
    "\n",
    "thistuple = (\"apple\", \"banana\", \"cherry\")\n",
    "print(thistuple)\n",
    "\n",
    "\n",
    "# allows duplicate values\n",
    "thistuple = (\"a\", \"b\", \"c\", \"a\")\n",
    "print(thistuple)"
   ]
  },
  {
   "cell_type": "code",
   "execution_count": 56,
   "id": "55f07f25",
   "metadata": {},
   "outputs": [
    {
     "name": "stdout",
     "output_type": "stream",
     "text": [
      "<class 'tuple'>\n",
      "('a', 'b', 'c')\n",
      "banana\n",
      "cherry\n",
      "('banana', 'cherry')\n",
      "('apple',)\n"
     ]
    }
   ],
   "source": [
    "thistuple = (\"apple\",)#without , u will gwtt str\n",
    "print(type(thistuple)) \n",
    "\n",
    "#it is also possinble to contruct tuple by tuplr() key word \n",
    "thistuple = tuple((\"a\", \"b\", \"c\"))#double bracket\n",
    "print(thistuple)\n",
    "\n",
    "thistuple = (\"apple\", \"banana\", \"cherry\")\n",
    "print(thistuple[1])#access\n",
    "\n",
    "thistuple = (\"apple\", \"banana\", \"cherry\")\n",
    "print(thistuple[-1])#negative index\n",
    "\n",
    "thistuple = (\"apple\", \"banana\", \"cherry\")\n",
    "print(thistuple[1:3])#range\n",
    "\n",
    "#negative range \n",
    "print(thistuple[-3:1])\n"
   ]
  },
  {
   "cell_type": "code",
   "execution_count": 57,
   "id": "269da6fb",
   "metadata": {},
   "outputs": [
    {
     "name": "stdout",
     "output_type": "stream",
     "text": [
      "('apple', 'kiwi', 'cherry')\n"
     ]
    }
   ],
   "source": [
    "x = (\"apple\", \"banana\", \"cherry\")\n",
    "y = list(x)\n",
    "y[1] = \"kiwi\"\n",
    "x = tuple(y)  #convert the tuple into list and chnage that into tuple back\n",
    "\n",
    "print(x)"
   ]
  },
  {
   "cell_type": "code",
   "execution_count": 58,
   "id": "04b10360",
   "metadata": {},
   "outputs": [
    {
     "name": "stdout",
     "output_type": "stream",
     "text": [
      "['apple', 'orange', 'banana', 'cherry']\n"
     ]
    }
   ],
   "source": [
    "thistuple = (\"apple\", \"orange\", \"banana\")# convrting tuple into list and append and change to tuple again\n",
    "y = list(thistuple)\n",
    "y.append(\"cherry\")\n",
    "thistuple = tuple(y)\n",
    "print(y)\n"
   ]
  },
  {
   "cell_type": "code",
   "execution_count": 59,
   "id": "12bb2996",
   "metadata": {},
   "outputs": [
    {
     "name": "stdout",
     "output_type": "stream",
     "text": [
      "('apple', 'banana', 'cherry', 'orange')\n"
     ]
    }
   ],
   "source": [
    "thistuple = (\"apple\", \"banana\", \"cherry\")\n",
    "y = (\"orange\",)\n",
    "thistuple += y\n",
    "\n",
    "print(thistuple)   #tuple +tuple"
   ]
  },
  {
   "cell_type": "code",
   "execution_count": 60,
   "id": "79ed68f5",
   "metadata": {},
   "outputs": [
    {
     "name": "stdout",
     "output_type": "stream",
     "text": [
      "banana\n",
      "apple\n",
      "['cherry', 'orange']\n"
     ]
    }
   ],
   "source": [
    "fruits = (\"apple\", \"banana\", \"cherry\", \"orange\")\n",
    "\n",
    "(green, yellow, *red) = fruits # using asterrisk * when the variable is less the the values the * creates them inton list\n",
    "                                  \n",
    "print(yellow)\n",
    "print(green)\n",
    "print(red)"
   ]
  },
  {
   "cell_type": "code",
   "execution_count": 61,
   "id": "860cebdf",
   "metadata": {},
   "outputs": [
    {
     "name": "stdout",
     "output_type": "stream",
     "text": [
      "('a', 'b', 'c', 'a', 'b', 'c', 'a', 'b', 'c')\n"
     ]
    }
   ],
   "source": [
    "#we can multiply the tuple \n",
    "fruits = (\"a\", \"b\", \"c\")\n",
    "mytuple = fruits * 3\n",
    "\n",
    "print(mytuple)"
   ]
  },
  {
   "cell_type": "code",
   "execution_count": null,
   "id": "d64d35ca",
   "metadata": {},
   "outputs": [],
   "source": []
  }
 ],
 "metadata": {
  "kernelspec": {
   "display_name": "Python 3",
   "language": "python",
   "name": "python3"
  },
  "language_info": {
   "codemirror_mode": {
    "name": "ipython",
    "version": 3
   },
   "file_extension": ".py",
   "mimetype": "text/x-python",
   "name": "python",
   "nbconvert_exporter": "python",
   "pygments_lexer": "ipython3",
   "version": "3.11.9"
  }
 },
 "nbformat": 4,
 "nbformat_minor": 5
}
